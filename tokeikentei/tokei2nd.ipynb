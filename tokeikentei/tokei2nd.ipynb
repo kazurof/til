{
 "cells": [
  {
   "cell_type": "markdown",
   "metadata": {},
   "source": [
    "# 統計検定2級勉強メモ\n"
   ]
  },
  {
   "cell_type": "markdown",
   "metadata": {},
   "source": [
    "## ローレンツ曲線\n",
    "\n",
    "不平等度を視覚的に表すグラフ。（所得、人口の分布など。）\n",
    "累積相対値を縦軸に、累積相対度数を横軸に取ったグラフ。\n"
   ]
  },
  {
   "cell_type": "markdown",
   "metadata": {},
   "source": [
    "## ジニ係数\n",
    "\n",
    "ローレンツ曲線と45度線での面積　÷　45度線より下の2等辺三角形の面積\n",
    "\n",
    "０は格差なし。\n",
    "１は、一人で独占。"
   ]
  },
  {
   "cell_type": "markdown",
   "metadata": {},
   "source": [
    "## コレログラム\n",
    "\n",
    "\n",
    "異なるラグについて自己相関係数もしくは交差相関系数を算出し、横軸にラグ、縦軸に相関係数をとったグラフのこと。\n",
    "周期性の洗い出しに使う。\n",
    "\n",
    "ある周期だと相関が高い、、、ということを見出すために使う。\n",
    "\n"
   ]
  },
  {
   "cell_type": "markdown",
   "metadata": {},
   "source": [
    "## 標本誤差\n",
    "\n",
    "全体から一部サンプルを抽出した。サンプルにて全体を推測するが、一部の調査故に発生する誤差のこと\n",
    "\n",
    "標本のとり方による偶然に生じる誤差。\n",
    "抽出したということに由来する誤差。\n"
   ]
  },
  {
   "cell_type": "markdown",
   "metadata": {},
   "source": [
    "## 非標本誤差\n",
    "\n",
    "標本誤差以外の、誤答、未回答、なんらかの事情ある偏りで発生する誤差。\n",
    "（質問内容に興味が強い・弱い。質問の意味がわからなかった。システム環境が不十分だった。）\n",
    "\n",
    "\n"
   ]
  },
  {
   "cell_type": "markdown",
   "metadata": {},
   "source": [
    "## フィッシャーの３原則\n",
    "\n",
    "\n",
    "- 反復（replication）  繰り返し行う。\n",
    "- 無作為化（randomization）実施順序をシャッフルする。\n",
    "- 局所管理（local control）実験場所を分けブロックを構成し、そのブロック内では測りたい要因以外を揃える。\n"
   ]
  },
  {
   "cell_type": "markdown",
   "metadata": {},
   "source": [
    "## ベイズの定理\n",
    "\n",
    "条件付き確率の前後を逆にできる。\n",
    "\n",
    "$P(A_{i} | E) =\\frac {P(A_{i}) P(E | A_{i}) }{   \\sum_{i = 1}^{\\infty}    P(A_{i}) P(E|A_{i})}$\n",
    "\n",
    "https://bellcurve.jp/statistics/course/6444.html\n",
    "\n",
    "\n",
    "回答においては、条件付き確率のことを言っていることをすぐ見抜くこと。\n"
   ]
  },
  {
   "cell_type": "markdown",
   "metadata": {},
   "source": [
    "# 幾何分布\n",
    "\n",
    "\n",
    "ベルヌーイ試行を繰り返して初めて成功させるまでの __試行回数__ n の分布。\n",
    "確率 p で成功するような試行の場合、n 回目で成功する確率は、 $P(X)=(1 - p)^{n-1}p $ となる。(n−1) 回連続で失敗して n 回目に成功する確率であるから。\n",
    "\n",
    "- 期待値\n",
    " - $\\frac {1}{p}$\n",
    "- 分散\n",
    " - $\\frac {1-p}{p^2}$\n",
    "\n",
    "参考：https://mathtrain.jp/kikabunpu\n"
   ]
  },
  {
   "cell_type": "markdown",
   "metadata": {},
   "source": [
    "# ２項分布\n",
    "\n",
    "成功の確率が p であるベルヌーイ試行をn 回行ったとき、成功する __回数__ X が従う確率分布。\n",
    "この場合、　X は、２項分布　$ B(n, p) $ に従うことになる。\n",
    "\n",
    "$X$ の期待値 $ E[X] $は $E[X]=np$ である。\n",
    "\n",
    "分散 $ V[X]$  は $V[X]=np(1-p)$　である。"
   ]
  },
  {
   "cell_type": "markdown",
   "metadata": {},
   "source": [
    "# ２項分布を正規分布で近似する\n",
    "\n",
    "- 二項分布の正規近似（ド・モアブル–ラプラスの定理）\n",
    " - 二項分布 $B(n,p)$ は n が十分大きいとき，平均 $np$，分散 $np(1 - p)$ の正規分布に近づく。\n",
    "\n",
    "\n",
    "https://mathtrain.jp/normalkinji\n",
    "\n"
   ]
  },
  {
   "cell_type": "markdown",
   "metadata": {},
   "source": [
    "# 正規分布の標準化\n",
    "\n",
    "ある確率変数 X が、平均　u 分散　σ2 の正規分布に従うならば、　$\\frac {X - u}{\\sigma} $ は　平均　0 分散　1 の正規分布に従う。\n",
    "つまり標準正規分布に従う。すると、付表などで出てくる標準正規分布の上側確率表が使える。\n",
    "\n",
    "ある確率変数が正規分布で、平均分散がわかっていれば、これを標準正規分布に持ち込んで、確率を求めたい事象の発生確率を求めることができる。"
   ]
  },
  {
   "cell_type": "markdown",
   "metadata": {},
   "source": [
    "# 条件付き確率\n",
    "\n",
    "ある事象が起こるという条件のもとで、別のある事象が起こる確率のことを「条件付き確率」と言います。噛み砕いて言うと、\n",
    "Bが起きる前提でAが起きる確率とは、Bが起きるときの場合の数の中に、Aが起きる場合の数はいくらあるか、ということである。\n",
    "\n",
    "Bが起きる前提でAが起きる確率を $ P(A|B)$ と書く。\n",
    "\n",
    "## 定義\n",
    "\n",
    "$ P(A|B) = \\frac{P(A \\bigcap B)}{P(B)}$ \n",
    "\n",
    "あるいはこれを式変形し、\n",
    "\n",
    "$ P(A|B)P(B) = P(A \\bigcap B)$ \n",
    "\n",
    "## ベイズの定理\n",
    "\n",
    "定義の式について、A と B を入れ替えるなどしてみる。\n",
    "\n",
    "\n",
    "$ P(A|B) = \\frac{P(A \\bigcap B)}{P(B)} = \\frac{P(B \\bigcap A)}{P(B)} = \\frac{P(B|A)P(A)}{P(B)}  $ \n",
    "\n",
    "中間の式を消すと以下のようになる。\n",
    "\n",
    "$ P(A|B) =  \\frac{P(B|A)P(A)}{P(B)}  $ \n",
    "\n"
   ]
  },
  {
   "cell_type": "markdown",
   "metadata": {},
   "source": [
    "# 不偏推定量\n",
    "\n",
    "母数の何らかの推定値 $T_n $において、その推定値の期待値が母数の値と等しいとき、　 $T_n $を不偏推定量と呼ぶ。\n",
    "\n",
    "（あとで推敲！）\n",
    "\n",
    "# 一致推定量\n",
    "\n"
   ]
  },
  {
   "cell_type": "code",
   "execution_count": null,
   "metadata": {},
   "outputs": [],
   "source": []
  },
  {
   "cell_type": "markdown",
   "metadata": {},
   "source": [
    "# 統計量t\n",
    "\n",
    "\n",
    "正規分布に従う母集団から抽出した、サンプルサイズ$n$で、平均 $\\mu $、不偏分散$s^2$である、標本を使って算出される次に示す統計量tの値は、自由度の$(n - 1 )$ の t分布に従います。\n",
    "標本平均は　$\\overline{x}$とします。 \n",
    "\n",
    "$$\n",
    "    t = \\frac{\\overline{x} - \\mu}{\\sqrt{ \\frac{s^2}{n}} }\n",
    "$$\n",
    "\n",
    "- 標本による推定で、母集団の平均が変わったかどうかを検定するときに使う。\n",
    "- この式の値が、付表から採った値と比べるなどして不等式を解く問題が出題される。\n",
    "- 99%信頼区間は、両側検定の場合、上側確率 0.005　に対するt値を使うので注意。\n"
   ]
  },
  {
   "cell_type": "markdown",
   "metadata": {},
   "source": [
    "# $\\chi ^2$統計量\n",
    "\n",
    "正規分布をなす母集団から抽出された大きさn の標本を　\n",
    "$ X_1 ,X_2 ,X_3 , ... , X_n $ とする。\n",
    "\n",
    "偏差の２乗和を母分散$\\sigma ^ 2$で割った値$\\chi ^2 $は、\n",
    "\n",
    "$$\n",
    "\\chi ^2 = \\frac { ( X_1 - \\overline{X} ) ^2 +( X_2 - \\overline{X} ) ^2 +( X_3 - \\overline{X} ) ^2 + ... + ( X_n - \\overline{X} ) ^2}{\\sigma  ^ 2 }\n",
    "$$\n",
    "\n",
    "自由度　(n - 1) の$\\chi ^2$分布に従う。\n",
    "\n",
    "不偏分散の式で以下のように変形できる。\n",
    "\n",
    "$$\n",
    "\\chi ^2 = \\frac {(n - 1 ) S ^ 2}{\\sigma ^ 2 }\n",
    "$$\n",
    "\n",
    "母集団が正規分布で、母分散を推定するときに使う。"
   ]
  },
  {
   "cell_type": "markdown",
   "metadata": {},
   "source": [
    "# 第一種の過誤\n",
    "\n",
    "\n",
    "第一種過誤は、帰無仮説が実際には真であるのに棄却してしまう過誤である。偽陽性。\n",
    "実際は陰性なのに陽性だと判定すること。ボール球を振りに行くこと。（ヒットになるかは別として、ボール１個損してしまう。）"
   ]
  },
  {
   "cell_type": "markdown",
   "metadata": {},
   "source": [
    "# 第二種の過誤\n",
    "\n",
    "\n",
    "第二種過誤は、対立仮説が実際には真であるのに帰無仮説を採用してしまう過誤である。偽陰性。\n",
    "実際は陽性なのに、陰性だと判断すること。ストライクを見逃して三振。"
   ]
  },
  {
   "cell_type": "markdown",
   "metadata": {},
   "source": [
    "# 分散　\n",
    "\n",
    "平均からの差（＝偏差）の2乗の和を要素数で割ったもの。 通常、$s^2$と書かれる。ルートを取った値を標準偏差という値として扱うため\n",
    "\n",
    "$$\n",
    "s^2 = \\frac{1}{n} \\sum _{i=1}^{n} (x_i - \\overline{x})^2\n",
    "$$\n",
    "\n",
    "また、2乗の平均から平均の2乗を引くことでも求められる。\n",
    "\n",
    "$$\n",
    "s^2 = \\frac{1}{n}\\sum_{i=1}^n{x_i}^2-\\overline{x}^2\n",
    "$$\n",
    "\n",
    "式変形は以下の通り\n",
    "\n",
    "\\begin{align*} s^2 &= \\frac{1}{n}\\sum_{i=1}^n(x_i-\\overline{x})^2  & 元の定義式 \\\\[5pt]\n",
    "&= \\frac{1}{n}\\sum_{i=1}^n({x_i}^2-2x_i\\overline{x} +\\overline{x}^2) & 2乗して展開した \\\\[5pt]\n",
    "&= \\frac{1}{n}\\sum_{i=1}^n{x_i}^2-2\\overline{x}\\underbrace{\\frac{1}{n}\\sum_{i=1}^nx_i}_{=\\overline{x}}+\\frac{1}{n}\\cdot n\\overline{x}^2 &  シグマの外に出した。2番めの項のx_i は平均に置き換えられる。 \\\\[5pt]\n",
    "&= \\frac{1}{n}\\sum_{i=1}^n{x_i}^2-2\\overline{x}^2+\\overline{x}^2 & 式を整理した \\\\[5pt]\n",
    "&= \\frac{1}{n}\\sum_{i=1}^n{x_i}^2-\\overline{x}^2 & 平均の2乗をまとめて完成 \\\\[5pt]\n",
    "&= \\frac{1}{n}\\sum_{i=1}^n{x_i}^2- \\left( \\frac{1}{n}\\sum_{i=1}^n{x_i} \\right)^2 & おまけ。式の形的にはこちらのほうが審美的かも \\end{align*}　\n",
    "\n"
   ]
  },
  {
   "cell_type": "markdown",
   "metadata": {},
   "source": [
    "# 連続確率変数の平均と分散\n",
    "\n",
    "確率変数 X の標本空間を　 $ \\Omega = R^1$ (実数全体の集合) とする。　適当な関数　f(x) が存在して、\n",
    "\n",
    "$$\n",
    "f (x) \\ge 0 ,  \\int^{\\infty}_{-\\infty}  f(x) dx = 1\n",
    "$$\n",
    "が、成立し、かつ任意の　$ a < b $ に対して、\n",
    "\n",
    "$$\n",
    "P \\{ a < X < b\\} = \\int^{b}_{a}  f(x) dx \n",
    "$$\n",
    "であるとき、　$f(x)$ は連続確率変数　X の確率密度関数　であるという。(probability density function)\n",
    "\n",
    "\n",
    "連続確率変数　$ X $ の密度関数を $ f(x) $ とするとき、\n",
    "\n",
    "X の平均（または期待値）\n",
    "\n",
    "$$\n",
    "\\mu = E(X) = \\int^{\\infty}_{-\\infty}xf(x)\\:dx\n",
    "$$\n",
    "\n",
    "\n",
    "X の分散\n",
    "\n",
    "$$\n",
    "\\sigma ^ 2 = V(X) = E\\{(X- \\mu )^ 2\\} = \\int^{\\infty}_{-\\infty} (x - \\mu) ^ 2 f(x)\\:dx\n",
    "$$\n"
   ]
  },
  {
   "cell_type": "markdown",
   "metadata": {},
   "source": [
    "# 共分散\n",
    "\n",
    "$ x_1,x_2,x_3, ... ,x_n $ と、$ y_1,y_2,y_3, ... ,y_n $という要素列があったとして、\n",
    "x,y それぞれの各要素の偏差を添え字毎に積を取り、その和を要素数で割ったもの。\n",
    "\n",
    "x とy に、xが大きいとyも大きいと行った相関関係があるかどうかの判定に使える。絶対値が大きければ相関あり。\n",
    "正なら正の相関。xが大きいとyも大きい。負なら負の相関。xが大きいとyは小さい。\n",
    "\n",
    "\n",
    "絶対値が小さい場合は相関が無いという。xが大きくても小さくてもyは多様な値を取る。\n",
    "\n",
    "\n",
    "$$\n",
    "S_{xy} = \\frac{1}{n} \\sum _{i=1}^{n} (x_i - \\overline{x})(y_i - \\overline{y})\n",
    "$$\n",
    "\n"
   ]
  },
  {
   "cell_type": "markdown",
   "metadata": {},
   "source": [
    "# 相関係数\n",
    "\n",
    "x とy　の値の範囲が違いすぎると、値で出方が偏ってきて評価しにくい。両者のスケールを揃えた値が欲しい。\n",
    "\n",
    "$$\n",
    "r_{xy} = \\frac{S_{xy}}{S_x S_y }\n",
    "$$\n",
    "\n",
    "共分散をxy それぞれの標準偏差の積で割ると、スケールが揃う。この値を相関係数と呼ぶ。値の範囲が\n",
    "$ -1 \\leq r_{xy} \\leq 1$ となる。"
   ]
  },
  {
   "cell_type": "markdown",
   "metadata": {},
   "source": [
    "# 重回帰分析\n",
    "\n",
    "\n",
    "## t値\n",
    "\n",
    "$$\n",
    "t値 = \\frac{推定値}{標準誤差}\n",
    "$$"
   ]
  },
  {
   "cell_type": "code",
   "execution_count": null,
   "metadata": {},
   "outputs": [],
   "source": []
  },
  {
   "cell_type": "markdown",
   "metadata": {},
   "source": [
    "# 抽出法\n",
    "\n",
    "- 二段抽出法\n",
    "  - 最初に母集団から抽出を行い、抽出で得られた集合から更に一部を抽出すること\n",
    "- 二相抽出法\n",
    "  - 第一段階で比較的調査の楽な調査項目を調査し、それを補助情報として第二段階で調べたい項目を調査する方法\n",
    "- 単純無作為抽出法\n",
    "  - 母集団から直接標本を無作為に抽出する方法\n",
    "- クラスター抽出法\n",
    "  - 母集団からその部分集団（クラスター）を抽出し、抽出された部分集団の標本すべてを調査する方法。\n",
    "- 層別（層化）抽出法\n",
    "  - 母集団から層と呼ばれる部分母集団を分割し、各層から標本を抽出する方法\n",
    " \n",
    " "
   ]
  },
  {
   "cell_type": "markdown",
   "metadata": {},
   "source": [
    "# 変動係数\n",
    "\n",
    "coefficient of variance\n",
    "\n",
    "標準偏差を平均値で割った値。値の範囲や単位が異なる集合が複数あって分散を比較したい場合、単純に比較することが\n",
    "できないので、平均で割ることで比較ができるようにする用途で使う。いわゆる標準化のような操作。\n",
    "\n",
    "$$\n",
    "C_v =  \\frac{\\sigma }{\\overline{x} }     =    \\frac{\\sqrt{\\displaystyle \\frac{1}{n}\n",
    "\\displaystyle \\sum_{i = 1}^n (x_i - \\overline{x})^2}}{\\overline{x}} \n",
    "$$"
   ]
  },
  {
   "cell_type": "markdown",
   "metadata": {},
   "source": [
    "# 中心極限定理\n",
    "\n",
    "母集団からの抽出を復元抽出として複数回行い、\n",
    "標本平均 $\\overline{X}$ の分布と平均と分散を考える。\n",
    "\n",
    "抽出したサンプルサイズを nとする。\n",
    " nを大きくしていくと、標本平均　$\\overline{X}$について以下のようになる。\n",
    "\n",
    "- $\\overline{X}$の分布は正規分布に従う。\n",
    "- $\\overline{X}$の平均は、母平均になる。\n",
    "- $\\overline{X}$の分散は、母分散をn で割ったものになる。\n",
    "- $\\overline{X}$の標準偏差は、母標準偏差を$\\sqrt{n}$ で割ったものになる。\n",
    "\n",
    "\n",
    "\n"
   ]
  },
  {
   "cell_type": "code",
   "execution_count": null,
   "metadata": {},
   "outputs": [],
   "source": []
  }
 ],
 "metadata": {
  "kernelspec": {
   "display_name": "Python 3",
   "language": "python",
   "name": "python3"
  },
  "language_info": {
   "codemirror_mode": {
    "name": "ipython",
    "version": 3
   },
   "file_extension": ".py",
   "mimetype": "text/x-python",
   "name": "python",
   "nbconvert_exporter": "python",
   "pygments_lexer": "ipython3",
   "version": "3.7.1"
  }
 },
 "nbformat": 4,
 "nbformat_minor": 2
}
