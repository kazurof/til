{
 "cells": [
  {
   "cell_type": "markdown",
   "metadata": {},
   "source": [
    "# 統計検定2級勉強メモ\n"
   ]
  },
  {
   "cell_type": "markdown",
   "metadata": {},
   "source": [
    "## ローレンツ曲線\n",
    "\n",
    "不平等度を視覚的に表すグラフ。（所得、人口の分布など。）\n",
    "累積相対値を縦軸に、累積相対度数を横軸に取ったグラフ。\n"
   ]
  },
  {
   "cell_type": "markdown",
   "metadata": {},
   "source": [
    "## ジニ係数\n",
    "\n",
    "ローレンツ曲線と45度線での面積　÷　45度線より下の2等辺三角形の面積\n",
    "\n",
    "０は格差なし。\n",
    "１は、一人で独占。"
   ]
  },
  {
   "cell_type": "markdown",
   "metadata": {},
   "source": [
    "## コレログラム\n",
    "\n",
    "\n",
    "異なるラグについて自己相関係数もしくは交差相関系数を算出し、横軸にラグ、縦軸に相関係数をとったグラフのこと。\n",
    "周期性の洗い出しに使う。\n",
    "\n",
    "ある周期だと相関が高い、、、ということを見出すために使う。\n",
    "\n"
   ]
  },
  {
   "cell_type": "markdown",
   "metadata": {},
   "source": [
    "## 標本誤差\n",
    "\n",
    "全体から一部サンプルを抽出した。サンプルにて全体を推測するが、一部の調査故に発生する誤差のこと\n",
    "\n",
    "標本のとり方による偶然に生じる誤差。\n",
    "抽出したということに由来する誤差。\n"
   ]
  },
  {
   "cell_type": "markdown",
   "metadata": {},
   "source": [
    "## 非標本誤差\n",
    "\n",
    "標本誤差以外の、誤答、未回答、なんらかの事情ある偏りで発生する誤差。\n",
    "（質問内容に興味が強い・弱い。質問の意味がわからなかった。システム環境が不十分だった。）\n",
    "\n",
    "\n"
   ]
  },
  {
   "cell_type": "markdown",
   "metadata": {},
   "source": [
    "## フィッシャーの３原則\n",
    "\n",
    "\n",
    "- 反復（replication）  繰り返し行う。\n",
    "- 無作為化（randomization）実施順序をシャッフルする。\n",
    "- 局所管理（local control）実験場所を分けブロックを構成し、そのブロック内では測りたい要因以外を揃える。\n"
   ]
  },
  {
   "cell_type": "markdown",
   "metadata": {},
   "source": [
    "## ベイズの定理\n",
    "\n",
    "条件付き確率の前後を逆にできる。\n",
    "\n",
    "$P(A_{i} | E) =\\frac {P(A_{i}) P(E | A_{i}) }{   \\sum_{i = 1}^{\\infty}    P(A_{i}) P(E|A_{i})}$\n",
    "\n",
    "https://bellcurve.jp/statistics/course/6444.html\n",
    "\n",
    "\n",
    "回答においては、条件付き確率のことを言っていることをすぐ見抜くこと。\n"
   ]
  },
  {
   "cell_type": "markdown",
   "metadata": {},
   "source": [
    "# 幾何分布\n",
    "\n",
    "\n",
    "ベルヌーイ試行を繰り返して初めて成功させるまでの __試行回数__ n の分布。\n",
    "確率 p で成功するような試行の場合、n 回目で成功する確率は、 $P(X)=(1 - p)^{n-1}p $ となる。(n−1) 回連続で失敗して n 回目に成功する確率であるから。\n",
    "\n",
    "- 期待値\n",
    " - $\\frac {1}{p}$\n",
    "- 分散\n",
    " - $\\frac {1-p}{p^2}$\n",
    "\n",
    "参考：https://mathtrain.jp/kikabunpu\n"
   ]
  },
  {
   "cell_type": "markdown",
   "metadata": {},
   "source": [
    "# ２項分布\n",
    "\n",
    "成功の確率が p であるベルヌーイ試行をn 回行ったとき、成功する __回数__ X が従う確率分布。\n",
    "この場合、　X は、２項分布　$ B(n, p) $ に従うことになる。"
   ]
  },
  {
   "cell_type": "markdown",
   "metadata": {},
   "source": [
    "# ２項分布を正規分布で近似する\n",
    "\n",
    "- 二項分布の正規近似（ド・モアブル–ラプラスの定理）\n",
    " - 二項分布 $B(n,p)$ は n が十分大きいとき，平均 $np$，分散 $np(1 - p)$ の正規分布に近づく。\n",
    "\n",
    "\n",
    "https://mathtrain.jp/normalkinji\n",
    "\n"
   ]
  },
  {
   "cell_type": "markdown",
   "metadata": {},
   "source": [
    "# 正規分布の標準化\n",
    "\n",
    "ある確率変数 X が、平均　u 分散　σ2 の正規分布に従うならば、　$\\frac {X - u}{\\sigma} $ は　平均　0 分散　1 の正規分布に従う。\n",
    "つまり標準正規分布に従う。すると、付表などで出てくる標準正規分布の上側確率表が使える。\n",
    "\n",
    "ある確率変数が正規分布で、平均分散がわかっていれば、これを標準正規分布に持ち込んで、確率を求めたい事象の発生確率を求めることができる。"
   ]
  },
  {
   "cell_type": "markdown",
   "metadata": {},
   "source": [
    "# 条件付き確率\n",
    "\n",
    "ある事象が起こるという条件のもとで、別のある事象が起こる確率のことを「条件付き確率」と言います。噛み砕いて言うと、\n",
    "Bが起きる前提でAが起きる確率とは、Bが起きるときの場合の数の中に、Aが起きる場合の数はいくらあるか、ということである。\n",
    "\n",
    "Bが起きる前提でAが起きる確率を $ P(A|B)$ と書く。\n",
    "\n",
    "## 定義\n",
    "\n",
    "$ P(A|B) = \\frac{P(A \\bigcap B)}{P(B)}$ \n",
    "\n",
    "あるいはこれを式変形し、\n",
    "\n",
    "$ P(A|B)P(B) = P(A \\bigcap B)$ \n",
    "\n",
    "## ベイズの定理\n",
    "\n",
    "定義の式について、A と B を入れ替えるなどしてみる。\n",
    "\n",
    "\n",
    "$ P(A|B) = \\frac{P(A \\bigcap B)}{P(B)} = \\frac{P(B \\bigcap A)}{P(B)} = \\frac{P(B|A)P(A)}{P(B)}  $ \n",
    "\n",
    "中間の式を消すと以下のようになる。\n",
    "\n",
    "$ P(A|B) =  \\frac{P(B|A)P(A)}{P(B)}  $ \n",
    "\n"
   ]
  },
  {
   "cell_type": "markdown",
   "metadata": {},
   "source": [
    "# 不偏推定量\n",
    "\n",
    "母数の何らかの推定値 $T_n $において、その推定値の期待値が母数の値と等しいとき、　 $T_n $を不偏推定量と呼ぶ。\n",
    "\n",
    "（あとで推敲！）\n",
    "\n",
    "# 一致推定量\n",
    "\n"
   ]
  },
  {
   "cell_type": "code",
   "execution_count": null,
   "metadata": {},
   "outputs": [],
   "source": []
  },
  {
   "cell_type": "markdown",
   "metadata": {},
   "source": [
    "# 統計量t\n",
    "\n",
    "\n",
    "平均 $\\mu $、不偏分散$s^2$の正規分布に従う母集団から抽出したサンプルサイズ$n$の標本を使って算出される次に示す統計量tの値は、自由度の(n - 1 )の t分布に従います。\n",
    "標本平均は　$\\overline{x}$とします。 \n",
    "\n",
    "$$\n",
    "    t = \\frac{\\overline{x} - \\mu}{\\sqrt{ \\frac{s^2}{n}} }\n",
    "$$\n",
    "\n",
    "標本による推定で、母集団の平均が変わったかどうかを検定するときに使う。\n",
    "\n"
   ]
  },
  {
   "cell_type": "markdown",
   "metadata": {},
   "source": [
    "# $\\chi ^2$統計量\n",
    "\n",
    "正規分布をなす母集団から抽出された大きさn の標本を　\n",
    "$ X_1 ,X_2 ,X_3 , ... , X_n $ とする。\n",
    "\n",
    "偏差の２乗和を母分散$\\sigma ^ 2$で割った値$\\chi ^2 $は、\n",
    "\n",
    "$$\n",
    "\\chi ^2 = \\frac { ( X_1 - \\overline{X} ) ^2 +( X_2 - \\overline{X} ) ^2 +( X_3 - \\overline{X} ) ^2 + ... + ( X_n - \\overline{X} ) ^2}{\\sigma  ^ 2 }\n",
    "$$\n",
    "\n",
    "自由度　(n - 1) の$\\chi ^2$分布に従う。\n",
    "\n",
    "不偏分散の式で以下のように変形できる。\n",
    "\n",
    "$$\n",
    "\\chi ^2 = \\frac {(n - 1 ) S ^ 2}{\\sigma ^ 2 }\n",
    "$$\n",
    "\n",
    "母集団が正規分布で、母分散を推定するときに使う。"
   ]
  },
  {
   "cell_type": "markdown",
   "metadata": {},
   "source": []
  }
 ],
 "metadata": {
  "kernelspec": {
   "display_name": "Python 3",
   "language": "python",
   "name": "python3"
  },
  "language_info": {
   "codemirror_mode": {
    "name": "ipython",
    "version": 3
   },
   "file_extension": ".py",
   "mimetype": "text/x-python",
   "name": "python",
   "nbconvert_exporter": "python",
   "pygments_lexer": "ipython3",
   "version": "3.7.1"
  }
 },
 "nbformat": 4,
 "nbformat_minor": 2
}
