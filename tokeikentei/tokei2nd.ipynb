{
 "cells": [
  {
   "cell_type": "markdown",
   "metadata": {},
   "source": [
    "# 統計検定2級勉強メモ\n"
   ]
  },
  {
   "cell_type": "markdown",
   "metadata": {},
   "source": [
    "## ローレンツ曲線\n",
    "\n",
    "不平等度を視覚的に表すグラフ。（所得、人口の分布など。）\n",
    "累積相対値を縦軸に、累積相対度数を横軸に取ったグラフ。\n"
   ]
  },
  {
   "cell_type": "markdown",
   "metadata": {},
   "source": [
    "## ジニ係数\n",
    "\n",
    "ローレンツ曲線と45度線での面積　÷　45度線より下の2等辺三角形の面積\n",
    "\n",
    "０は格差なし。\n",
    "１は、一人で独占。"
   ]
  },
  {
   "cell_type": "markdown",
   "metadata": {},
   "source": [
    "## コレログラム\n",
    "\n",
    "\n",
    "異なるラグについて自己相関係数もしくは交差相関系数を算出し、横軸にラグ、縦軸に相関係数をとったグラフのこと。\n",
    "周期性の洗い出しに使う。\n",
    "\n",
    "ある周期だと相関が高い、、、ということを見出すために使う。\n",
    "\n"
   ]
  },
  {
   "cell_type": "markdown",
   "metadata": {},
   "source": [
    "## 標本誤差\n",
    "\n",
    "全体から一部サンプルを抽出した。サンプルにて全体を推測するが、一部の調査故に発生する誤差のこと\n",
    "\n",
    "標本のとり方による偶然に生じる誤差。\n",
    "抽出したということに由来する誤差。\n"
   ]
  },
  {
   "cell_type": "markdown",
   "metadata": {},
   "source": [
    "## 非標本誤差\n",
    "\n",
    "標本誤差以外の、誤答、未回答、なんらかの事情ある偏りで発生する誤差。\n",
    "（質問内容に興味が強い・弱い。質問の意味がわからなかった。システム環境が不十分だった。）\n",
    "\n",
    "\n"
   ]
  },
  {
   "cell_type": "markdown",
   "metadata": {},
   "source": [
    "## フィッシャーの３原則\n",
    "\n",
    "\n",
    "- 反復（replication）  繰り返し行う。\n",
    "- 無作為化（randomization）実施順序をシャッフルする。\n",
    "- 局所管理（local control）実験場所を分けブロックを構成し、そのブロック内では測りたい要因以外を揃える。\n"
   ]
  },
  {
   "cell_type": "markdown",
   "metadata": {},
   "source": [
    "## ベイズの定理\n",
    "\n",
    "条件付き確率の前後を逆にできる。\n",
    "\n",
    "$P(A_{i} | E) =\\frac {P(A_{i}) P(E | A_{i}) }{   \\sum_{i = 1}^{\\infty}    P(A_{i}) P(E|A_{i})}$\n",
    "\n",
    "https://bellcurve.jp/statistics/course/6444.html\n",
    "\n",
    "\n",
    "回答においては、条件付き確率のことを言っていることをすぐ見抜くこと。\n"
   ]
  },
  {
   "cell_type": "markdown",
   "metadata": {},
   "source": [
    "# 幾何分布\n",
    "\n",
    "\n",
    "ベルヌーイ試行を繰り返して初めて成功させるまでの __試行回数__ n の分布。\n",
    "確率 p で成功するような試行の場合、n 回目で成功する確率は、 $P(X)=(1 - p)^{n-1}p $ となる。(n−1) 回連続で失敗して n 回目に成功する確率であるから。\n",
    "\n",
    "- 期待値\n",
    " - $\\frac {1}{p}$\n",
    "- 分散\n",
    " - $\\frac {1-p}{p^2}$\n",
    "\n",
    "参考：https://mathtrain.jp/kikabunpu\n"
   ]
  },
  {
   "cell_type": "markdown",
   "metadata": {},
   "source": [
    "# ２項分布\n",
    "\n",
    "成功の確率が p であるベルヌーイ試行をn 回行ったとき、成功する __回数__ X が従う確率分布。\n",
    "この場合、　X は、２項分布　$ B(n, p) $ に従うことになる。"
   ]
  },
  {
   "cell_type": "markdown",
   "metadata": {},
   "source": [
    "# ２項分布を正規分布で近似する\n",
    "\n",
    "- 二項分布の正規近似（ド・モアブル–ラプラスの定理）\n",
    " - 二項分布 $B(n,p)$ は n が十分大きいとき，平均 $np$，分散 $np(1 - p)$ の正規分布に近づく。\n",
    "\n",
    "\n",
    "https://mathtrain.jp/normalkinji\n",
    "\n"
   ]
  },
  {
   "cell_type": "markdown",
   "metadata": {},
   "source": [
    "# 正規分布の標準化\n",
    "\n",
    "ある確率変数 X が、平均　u 分散　σ2 の正規分布に従うならば、　$\\frac {X - u}{\\sigma} $ は　平均　0 分散　1 の正規分布に従う。\n",
    "つまり標準正規分布に従う。すると、付表などで出てくる標準正規分布の上側確率表が使える。\n",
    "\n",
    "ある確率変数が正規分布で、平均分散がわかっていれば、これを標準正規分布に持ち込んで、確率を求めたい事象の発生確率を求めることができる。"
   ]
  },
  {
   "cell_type": "code",
   "execution_count": null,
   "metadata": {},
   "outputs": [],
   "source": []
  },
  {
   "cell_type": "code",
   "execution_count": null,
   "metadata": {},
   "outputs": [],
   "source": []
  }
 ],
 "metadata": {
  "kernelspec": {
   "display_name": "Python 3",
   "language": "python",
   "name": "python3"
  },
  "language_info": {
   "codemirror_mode": {
    "name": "ipython",
    "version": 3
   },
   "file_extension": ".py",
   "mimetype": "text/x-python",
   "name": "python",
   "nbconvert_exporter": "python",
   "pygments_lexer": "ipython3",
   "version": "3.7.1"
  }
 },
 "nbformat": 4,
 "nbformat_minor": 2
}
